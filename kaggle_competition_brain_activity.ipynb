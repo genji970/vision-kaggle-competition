{
  "nbformat": 4,
  "nbformat_minor": 0,
  "metadata": {
    "colab": {
      "provenance": []
    },
    "kernelspec": {
      "name": "python3",
      "display_name": "Python 3"
    },
    "language_info": {
      "name": "python"
    }
  },
  "cells": [
    {
      "cell_type": "code",
      "execution_count": null,
      "metadata": {
        "id": "7jCPXediXh0P"
      },
      "outputs": [],
      "source": [
        "import os\n",
        "import shutil\n",
        "import numpy as np\n",
        "import pandas as pd\n",
        "import torch\n",
        "import torch.nn as nn\n",
        "import torch.nn.functional as F\n",
        "import torch.optim as optim\n",
        "from torch.utils.data import Dataset, DataLoader\n",
        "import warnings\n",
        "import pandas as pd\n",
        "from torchvision import transforms"
      ]
    },
    {
      "cell_type": "code",
      "source": [
        "import random\n",
        "\n",
        "seed = 40\n",
        "deterministic = True\n",
        "\n",
        "random.seed(seed)\n",
        "np.random.seed(seed)\n",
        "torch.manual_seed(seed)\n",
        "torch.cuda.manual_seed_all(seed)\n",
        "if deterministic:\n",
        "    torch.backends.cudnn.deterministic = True\n",
        "    torch.backends.cudnn.benchmark = False\n",
        "warnings.filterwarnings('ignore')"
      ],
      "metadata": {
        "id": "idv_BUlnXik6"
      },
      "execution_count": null,
      "outputs": []
    },
    {
      "cell_type": "code",
      "source": [
        "device = torch.device(\"cuda\" if torch.cuda.is_available() else \"cpu\")"
      ],
      "metadata": {
        "id": "cEEeA5g5Xim8"
      },
      "execution_count": null,
      "outputs": []
    },
    {
      "cell_type": "code",
      "source": [
        "model_name = 'model' + '51'\n",
        "model_path = model_name +'/model (' + '25' +')'\n",
        "eeg_path = model_name +'/eeg_state_dict (' + '17' +')'"
      ],
      "metadata": {
        "id": "RbXRw87qXipE"
      },
      "execution_count": null,
      "outputs": []
    },
    {
      "cell_type": "code",
      "source": [
        "model = torch.load('/kaggle/input/' + model_path + '.pt', map_location='cpu')"
      ],
      "metadata": {
        "id": "035n2TQDXirC"
      },
      "execution_count": null,
      "outputs": []
    },
    {
      "cell_type": "code",
      "source": [
        "class Egg(nn.Module):\n",
        "  def __init__(self , input_size = 1024):\n",
        "    super().__init__()\n",
        "    self.input_size = input_size\n",
        "    self.backbone = model\n",
        "    self.softmax = nn.Softmax(dim=1)\n",
        "    self.leakyrelu = nn.LeakyReLU()\n",
        "    self.dropout = nn.Dropout(0.2)\n",
        "\n",
        "    self.l1 = nn.Linear(224 , 1)\n",
        "    self.l2=nn.Linear(224,6)\n",
        "\n",
        "    self.convt1 = nn.ConvTranspose2d(1,1,kernel_size=3,stride=2,padding=3)\n",
        "    self.convt2 = nn.ConvTranspose2d(1,1,kernel_size=3,stride=2,padding=3)\n",
        "    self.convt3 = nn.ConvTranspose2d(1,1,kernel_size=6,stride=2,padding=3)\n",
        "\n",
        "    self.b = nn.BatchNorm2d(1)\n",
        "\n",
        "  def forward(self , x):\n",
        "    vit = self.backbone(x)  # vit.shape : batch_num , 1024\n",
        "    vit = vit.unsqueeze(1)\n",
        "    vit = vit.unsqueeze(1)\n",
        "\n",
        "    vit = vit.reshape(-1,1,32,32)\n",
        "\n",
        "    vit=self.convt1(vit)\n",
        "    vit=self.b(vit)\n",
        "    vit=self.leakyrelu(vit)\n",
        "    vit=self.convt2(vit)\n",
        "    vit=self.b(vit)\n",
        "    vit=self.leakyrelu(vit)\n",
        "    vit=self.convt3(vit)\n",
        "    vit=self.b(vit)\n",
        "    vit=self.leakyrelu(vit)\n",
        "\n",
        "    ssl = self.l1(vit)\n",
        "    ssl = ssl.permute(0,1,3,2)\n",
        "    ssl=self.l2(ssl)\n",
        "    ssl=ssl.reshape(-1,6)\n",
        "    ssl=self.softmax(ssl)\n",
        "\n",
        "    return ssl , vit"
      ],
      "metadata": {
        "id": "s6ykNWExXitS"
      },
      "execution_count": null,
      "outputs": []
    },
    {
      "cell_type": "code",
      "source": [
        "egg =Egg()"
      ],
      "metadata": {
        "id": "49aQOgk7XivU"
      },
      "execution_count": null,
      "outputs": []
    },
    {
      "cell_type": "code",
      "source": [
        "egg.load_state_dict(torch.load('/kaggle/input/' + eeg_path + '.pt', map_location='cpu'))"
      ],
      "metadata": {
        "id": "nI-9FjSVXiy4"
      },
      "execution_count": null,
      "outputs": []
    },
    {
      "cell_type": "code",
      "source": [
        "for param in model.parameters():\n",
        "  param_requires_grad = False\n",
        "for param in egg.parameters():\n",
        "  param_requires_grad = False"
      ],
      "metadata": {
        "id": "f4IZjjd-XpVu"
      },
      "execution_count": null,
      "outputs": []
    },
    {
      "cell_type": "code",
      "source": [
        "def memory_decreasing(df_train):\n",
        "    start_mem = df_train.memory_usage().sum() / 1024**2\n",
        "\n",
        "    for col in list(df_train):\n",
        "        col_type = df_train[col].dtype\n",
        "\n",
        "        if col_type != object:\n",
        "            c_min = df_train[col].min()\n",
        "            c_max = df_train[col].max()\n",
        "            if str(col_type)[:3] == 'int':\n",
        "                if c_min > np.iinfo(np.int8).min and c_max < np.iinfo(np.int8).max:\n",
        "                    if c_min >= 0:\n",
        "                        df_train[col] = df_train[col].astype(np.uint8)\n",
        "                    else:\n",
        "                        df_train[col] = df_train[col].astype(np.int8)\n",
        "                elif c_min > np.iinfo(np.int16).min and c_max < np.iinfo(np.int16).max:\n",
        "                    if c_min >= 0:\n",
        "                        df_train[col] = df_train[col].astype(np.uint16)\n",
        "                    else:\n",
        "                        df_train[col] = df_train[col].astype(np.int16)\n",
        "                elif c_min > np.iinfo(np.int32).min and c_max < np.iinfo(np.int32).max:\n",
        "                    if c_min >= 0:\n",
        "                        df_train[col] = df_train[col].astype(np.uint32)\n",
        "                    else:\n",
        "                        df_train[col] = df_train[col].astype(np.int32)\n",
        "                elif c_min > np.iinfo(np.int64).min and c_max < np.iinfo(np.int64).max:\n",
        "                    if c_min >= 0:\n",
        "                        df_train[col] = df_train[col].astype(np.uint64)\n",
        "                    else:\n",
        "                        df_train[col] = df_train[col].astype(np.int64)\n",
        "            else:\n",
        "                if c_min > np.finfo(np.float32).min and c_max < np.finfo(np.float32).max:\n",
        "                    df_train[col] = df_train[col].astype(np.float32)\n",
        "                else:\n",
        "                    df_train[col] = df_train[col].astype(np.float64)\n",
        "\n",
        "    end_mem = df_train.memory_usage().sum() / 1024**2\n",
        "\n",
        "    return df_train"
      ],
      "metadata": {
        "id": "Uyi_911pXpX1"
      },
      "execution_count": null,
      "outputs": []
    },
    {
      "cell_type": "code",
      "source": [
        "test_spec_dir = '/kaggle/input/hms-harmful-brain-activity-classification/test_spectrograms'\n",
        "df_test = pd.read_csv('/kaggle/input/hms-harmful-brain-activity-classification/test.csv')\n",
        "df_test = memory_decreasing(df_test)\n",
        "df_test['spec_path'] = df_test['spectrogram_id'].apply(lambda x: os.path.join(test_spec_dir, f'{x}.parquet'))"
      ],
      "metadata": {
        "id": "tUpn5z9fXpZ1"
      },
      "execution_count": null,
      "outputs": []
    },
    {
      "cell_type": "code",
      "source": [
        "def test_load_spectrogram_data(spec_path):\n",
        "    if os.path.isfile(spec_path):\n",
        "        spec_data = pd.read_parquet(spec_path)\n",
        "        return spec_data\n",
        "    else:\n",
        "        print(f\"Invalid file path: {spec_path}\")\n",
        "        return None"
      ],
      "metadata": {
        "id": "hNv-MCddXpb8"
      },
      "execution_count": null,
      "outputs": []
    },
    {
      "cell_type": "code",
      "source": [
        "class test_Spec():\n",
        "    def __init__(self, start , batch):\n",
        "        self.start = start\n",
        "        self.batch = batch\n",
        "\n",
        "    def spec_input(self):\n",
        "        result = []\n",
        "        columns = ['seizure_vote' , 'lpd_vote' , 'gpd_vote' , 'lrda_vote' , 'grda_vote', 'other_vote']\n",
        "\n",
        "        rc = test_load_spectrogram_data(df_test['spec_path'][0]).columns\n",
        "        rc = rc[1:401]\n",
        "\n",
        "\n",
        "        for i in range(self.start , self.start + self.batch):\n",
        "            idx = i - self.start\n",
        "            result.append(0)\n",
        "            result[idx] = test_load_spectrogram_data(df_test['spec_path'][i])\n",
        "            result[idx] = result[idx].iloc[: , 1:401]\n",
        "\n",
        "            result[idx] = result[idx].fillna(0)\n",
        "            #result[idx] = result[idx].iloc[:300 , 1:101]\n",
        "            result[idx] = result[idx].values\n",
        "            result[idx] = np.array(result[idx])\n",
        "\n",
        "        return result"
      ],
      "metadata": {
        "id": "b2xGFwdXXssL"
      },
      "execution_count": null,
      "outputs": []
    },
    {
      "cell_type": "code",
      "source": [
        "def making_dataset(image):\n",
        "\n",
        "  result = []\n",
        "  for i in range(len(image)):\n",
        "    result.append(0)\n",
        "    im = torch.tensor(image[i])\n",
        "    result[i] = torch.log(im + 0.0000000000000001)\n",
        "    result[i] = np.array(result[i])\n",
        "\n",
        "  for j in range(len(image)):\n",
        "    i = len(image) - j\n",
        "    if len(result) >= i+1:\n",
        "        if result[i].shape[0] < 1:\n",
        "          del result[i]\n",
        "\n",
        "  transform = transforms.Compose([\n",
        "    transforms.Resize((672,224)),\n",
        "  ])\n",
        "\n",
        "  for i in range(len(result)):\n",
        "    result[i] = torch.tensor(result[i])\n",
        "    result[i] = result[i].unsqueeze(0)\n",
        "    result[i] = torch.tensor(result[i])\n",
        "\n",
        "  for i in range(len(result)):\n",
        "    result[i] = transform(result[i])\n",
        "    if result[i].max() != result[i].min():\n",
        "      result[i] = (result[i]-result[i].max())/(result[i].max() - result[i].min())\n",
        "    else:\n",
        "      result[i] = torch.zeros(672,224)\n",
        "    result[i] = result[i].reshape(3,224,224)\n",
        "\n",
        "  return result"
      ],
      "metadata": {
        "id": "lYzQJ9mFXsuV"
      },
      "execution_count": null,
      "outputs": []
    },
    {
      "cell_type": "code",
      "source": [
        "pred = egg.eval()\n",
        "pred = pred.to(device)\n",
        "\n",
        "dfl = df_test['spec_path'].shape[0]\n",
        "np_test_preds = np.zeros((dfl , 6))"
      ],
      "metadata": {
        "id": "YBnZ48SzXswQ"
      },
      "execution_count": null,
      "outputs": []
    },
    {
      "cell_type": "code",
      "source": [
        "for i in range(dfl):\n",
        "    test_spec_fun = test_Spec(i , 1)\n",
        "    test_spec = test_spec_fun.spec_input()\n",
        "    test_spec = torch.tensor(test_spec)\n",
        "    if test_spec.shape[0] > 0:\n",
        "        test_spec = torch.tensor(test_spec)\n",
        "        test_spec = test_spec.to(torch.float32)\n",
        "        test_spec = making_dataset(test_spec)\n",
        "        test_spec[0] = np.array(test_spec[0])\n",
        "        test_spec = torch.tensor(test_spec)\n",
        "        test_spec=test_spec.to(device)\n",
        "        p1,p2 = pred(test_spec)\n",
        "        pre = p1.tolist()\n",
        "        for j in range(0,6):\n",
        "            np_test_preds[i][j] = pre[0][j]"
      ],
      "metadata": {
        "id": "TYLhkUSWXvvJ"
      },
      "execution_count": null,
      "outputs": []
    },
    {
      "cell_type": "code",
      "source": [
        "for i in range(len(np_test_preds)):\n",
        "    if sum(np_test_preds[i]) != 1:\n",
        "        not_enough = 1 - sum(np_test_preds[i])\n",
        "        for j in range(0,6):\n",
        "            if np_test_preds[i][j] == max(np_test_preds[i]):\n",
        "                max_idx = j\n",
        "        np_test_preds[i][max_idx] += not_enough"
      ],
      "metadata": {
        "id": "ZUebG0n3XvxA"
      },
      "execution_count": null,
      "outputs": []
    },
    {
      "cell_type": "code",
      "source": [
        "np_test_preds"
      ],
      "metadata": {
        "id": "h7OvJasDXvzG"
      },
      "execution_count": null,
      "outputs": []
    }
  ]
}