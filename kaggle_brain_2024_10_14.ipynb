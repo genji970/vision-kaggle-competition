{
  "cells": [
    {
      "cell_type": "code",
      "execution_count": null,
      "metadata": {
        "id": "HuZBfD1Alhwa",
        "collapsed": true
      },
      "outputs": [],
      "source": [
        "!pip install kaggle\n",
        "from google.colab import files\n",
        "files.upload()"
      ]
    },
    {
      "cell_type": "code",
      "execution_count": 2,
      "metadata": {
        "colab": {
          "base_uri": "https://localhost:8080/"
        },
        "id": "WLkMIUtMmtSW",
        "outputId": "ea09eaf7-7cce-488b-fd3a-c776b26b07ff"
      },
      "outputs": [
        {
          "output_type": "stream",
          "name": "stdout",
          "text": [
            "kaggle.json\n"
          ]
        }
      ],
      "source": [
        "ls -1ha kaggle.json"
      ]
    },
    {
      "cell_type": "code",
      "execution_count": 3,
      "metadata": {
        "id": "1HMNXLv_muSG"
      },
      "outputs": [],
      "source": [
        "!mkdir -p ~/.kaggle\n",
        "!cp kaggle.json ~/.kaggle/\n",
        "\n",
        "# Permission Warning 방지\n",
        "!chmod 600 ~/.kaggle/kaggle.json"
      ]
    },
    {
      "cell_type": "code",
      "execution_count": 4,
      "metadata": {
        "colab": {
          "base_uri": "https://localhost:8080/"
        },
        "id": "GYRTBPFDmvvm",
        "outputId": "a2239046-5f5f-4dce-d296-4eaf420ff30a"
      },
      "outputs": [
        {
          "output_type": "stream",
          "name": "stdout",
          "text": [
            "Downloading hms-harmful-brain-activity-classification.zip to /content\n",
            "100% 18.4G/18.4G [18:24<00:00, 21.3MB/s]\n",
            "100% 18.4G/18.4G [18:24<00:00, 17.9MB/s]\n"
          ]
        }
      ],
      "source": [
        "!kaggle competitions download -c hms-harmful-brain-activity-classification"
      ]
    },
    {
      "cell_type": "code",
      "execution_count": 5,
      "metadata": {
        "id": "eYwYCgL7mwU1",
        "colab": {
          "base_uri": "https://localhost:8080/"
        },
        "outputId": "bf1664d7-7839-4435-ae8e-0e8774db5cfb"
      },
      "outputs": [
        {
          "output_type": "stream",
          "name": "stdout",
          "text": [
            "drive  hms-harmful-brain-activity-classification.zip  kaggle.json  sample_data\n"
          ]
        }
      ],
      "source": [
        "!ls"
      ]
    },
    {
      "cell_type": "code",
      "execution_count": null,
      "metadata": {
        "collapsed": true,
        "id": "bI3LwxXn25N1"
      },
      "outputs": [],
      "source": [
        "!unzip /content/hms-harmful-brain-activity-classification.zip"
      ]
    },
    {
      "cell_type": "markdown",
      "metadata": {
        "id": "XKUu4Em55Nnm"
      },
      "source": [
        "google drive mount"
      ]
    },
    {
      "cell_type": "code",
      "execution_count": 7,
      "metadata": {
        "colab": {
          "base_uri": "https://localhost:8080/"
        },
        "id": "v_P2mGCO5NwS",
        "outputId": "bd21351b-072f-436f-d3ec-b6bf3e3fe8ba"
      },
      "outputs": [
        {
          "output_type": "stream",
          "name": "stdout",
          "text": [
            "Drive already mounted at /content/drive; to attempt to forcibly remount, call drive.mount(\"/content/drive\", force_remount=True).\n"
          ]
        }
      ],
      "source": [
        "from google.colab import drive\n",
        "drive.mount('/content/drive')"
      ]
    },
    {
      "cell_type": "code",
      "execution_count": 8,
      "metadata": {
        "id": "Yuj9_67G3YUq"
      },
      "outputs": [],
      "source": [
        "import os\n",
        "import shutil\n",
        "import numpy as np\n",
        "import pandas as pd\n",
        "import torch\n",
        "import torch.nn as nn\n",
        "import torch.nn.functional as F\n",
        "import torch.optim as optim\n",
        "from torch.utils.data import Dataset, DataLoader, Subset\n",
        "from sklearn.model_selection import train_test_split\n",
        "import warnings\n",
        "import pandas as pd\n",
        "import matplotlib.pyplot as plt\n",
        "from torchvision import transforms\n",
        "from PIL import Image\n",
        "import gc\n",
        "from sklearn.model_selection import KFold\n",
        "import torch.nn.init as init\n",
        "from torch.optim.lr_scheduler import CosineAnnealingLR\n",
        "from torch.utils.data import DataLoader, SubsetRandomSampler\n",
        "from urllib.request import urlopen\n",
        "import matplotlib.pyplot as plt"
      ]
    },
    {
      "cell_type": "code",
      "execution_count": 9,
      "metadata": {
        "id": "BA-NGwGs3a0C"
      },
      "outputs": [],
      "source": [
        "import random\n",
        "\n",
        "seed = 40\n",
        "deterministic = True\n",
        "\n",
        "random.seed(seed)\n",
        "np.random.seed(seed)\n",
        "torch.manual_seed(seed)\n",
        "torch.cuda.manual_seed_all(seed)\n",
        "if deterministic:\n",
        "    torch.backends.cudnn.deterministic = True\n",
        "    torch.backends.cudnn.benchmark = False"
      ]
    },
    {
      "cell_type": "code",
      "execution_count": 10,
      "metadata": {
        "id": "gnil61rj3btC"
      },
      "outputs": [],
      "source": [
        "device = torch.device(\"cuda\" if torch.cuda.is_available() else \"cpu\")"
      ]
    },
    {
      "cell_type": "code",
      "execution_count": 11,
      "metadata": {
        "id": "iz6Y91fn3clq"
      },
      "outputs": [],
      "source": [
        "warnings.filterwarnings('ignore')"
      ]
    },
    {
      "cell_type": "markdown",
      "metadata": {
        "id": "R6nnhfiTxxEF"
      },
      "source": [
        "data load"
      ]
    },
    {
      "cell_type": "code",
      "execution_count": 12,
      "metadata": {
        "id": "EQwAPRlx3dPq"
      },
      "outputs": [],
      "source": [
        "df_train = pd.read_csv('/content/train.csv')"
      ]
    },
    {
      "cell_type": "code",
      "execution_count": 13,
      "metadata": {
        "id": "xjphBBeK3d_a"
      },
      "outputs": [],
      "source": [
        "offset = df_train['spectrogram_label_offset_seconds']"
      ]
    },
    {
      "cell_type": "code",
      "execution_count": 14,
      "metadata": {
        "colab": {
          "base_uri": "https://localhost:8080/",
          "height": 443
        },
        "id": "LcK67gn0vs1n",
        "outputId": "d7736b63-f753-4418-e415-cda98c0802d1"
      },
      "outputs": [
        {
          "output_type": "execute_result",
          "data": {
            "text/plain": [
              "            eeg_id  eeg_sub_id  eeg_label_offset_seconds  spectrogram_id  \\\n",
              "0       1628180742           0                       0.0          353733   \n",
              "1       1628180742           1                       6.0          353733   \n",
              "2       1628180742           2                       8.0          353733   \n",
              "3       1628180742           3                      18.0          353733   \n",
              "4       1628180742           4                      24.0          353733   \n",
              "...            ...         ...                       ...             ...   \n",
              "106795   351917269           6                      12.0      2147388374   \n",
              "106796   351917269           7                      14.0      2147388374   \n",
              "106797   351917269           8                      16.0      2147388374   \n",
              "106798   351917269           9                      18.0      2147388374   \n",
              "106799   351917269          10                      20.0      2147388374   \n",
              "\n",
              "        spectrogram_sub_id  spectrogram_label_offset_seconds    label_id  \\\n",
              "0                        0                               0.0   127492639   \n",
              "1                        1                               6.0  3887563113   \n",
              "2                        2                               8.0  1142670488   \n",
              "3                        3                              18.0  2718991173   \n",
              "4                        4                              24.0  3080632009   \n",
              "...                    ...                               ...         ...   \n",
              "106795                   6                              12.0  4195677307   \n",
              "106796                   7                              14.0   290896675   \n",
              "106797                   8                              16.0   461435451   \n",
              "106798                   9                              18.0  3786213131   \n",
              "106799                  10                              20.0  3642716176   \n",
              "\n",
              "        patient_id expert_consensus  seizure_vote  lpd_vote  gpd_vote  \\\n",
              "0            42516          Seizure             3         0         0   \n",
              "1            42516          Seizure             3         0         0   \n",
              "2            42516          Seizure             3         0         0   \n",
              "3            42516          Seizure             3         0         0   \n",
              "4            42516          Seizure             3         0         0   \n",
              "...            ...              ...           ...       ...       ...   \n",
              "106795       10351             LRDA             0         0         0   \n",
              "106796       10351             LRDA             0         0         0   \n",
              "106797       10351             LRDA             0         0         0   \n",
              "106798       10351             LRDA             0         0         0   \n",
              "106799       10351             LRDA             0         0         0   \n",
              "\n",
              "        lrda_vote  grda_vote  other_vote  \n",
              "0               0          0           0  \n",
              "1               0          0           0  \n",
              "2               0          0           0  \n",
              "3               0          0           0  \n",
              "4               0          0           0  \n",
              "...           ...        ...         ...  \n",
              "106795          3          0           0  \n",
              "106796          3          0           0  \n",
              "106797          3          0           0  \n",
              "106798          3          0           0  \n",
              "106799          3          0           0  \n",
              "\n",
              "[106800 rows x 15 columns]"
            ],
            "text/html": [
              "\n",
              "  <div id=\"df-cd10a9b9-c8bb-4a17-b553-b53e6e285666\" class=\"colab-df-container\">\n",
              "    <div>\n",
              "<style scoped>\n",
              "    .dataframe tbody tr th:only-of-type {\n",
              "        vertical-align: middle;\n",
              "    }\n",
              "\n",
              "    .dataframe tbody tr th {\n",
              "        vertical-align: top;\n",
              "    }\n",
              "\n",
              "    .dataframe thead th {\n",
              "        text-align: right;\n",
              "    }\n",
              "</style>\n",
              "<table border=\"1\" class=\"dataframe\">\n",
              "  <thead>\n",
              "    <tr style=\"text-align: right;\">\n",
              "      <th></th>\n",
              "      <th>eeg_id</th>\n",
              "      <th>eeg_sub_id</th>\n",
              "      <th>eeg_label_offset_seconds</th>\n",
              "      <th>spectrogram_id</th>\n",
              "      <th>spectrogram_sub_id</th>\n",
              "      <th>spectrogram_label_offset_seconds</th>\n",
              "      <th>label_id</th>\n",
              "      <th>patient_id</th>\n",
              "      <th>expert_consensus</th>\n",
              "      <th>seizure_vote</th>\n",
              "      <th>lpd_vote</th>\n",
              "      <th>gpd_vote</th>\n",
              "      <th>lrda_vote</th>\n",
              "      <th>grda_vote</th>\n",
              "      <th>other_vote</th>\n",
              "    </tr>\n",
              "  </thead>\n",
              "  <tbody>\n",
              "    <tr>\n",
              "      <th>0</th>\n",
              "      <td>1628180742</td>\n",
              "      <td>0</td>\n",
              "      <td>0.0</td>\n",
              "      <td>353733</td>\n",
              "      <td>0</td>\n",
              "      <td>0.0</td>\n",
              "      <td>127492639</td>\n",
              "      <td>42516</td>\n",
              "      <td>Seizure</td>\n",
              "      <td>3</td>\n",
              "      <td>0</td>\n",
              "      <td>0</td>\n",
              "      <td>0</td>\n",
              "      <td>0</td>\n",
              "      <td>0</td>\n",
              "    </tr>\n",
              "    <tr>\n",
              "      <th>1</th>\n",
              "      <td>1628180742</td>\n",
              "      <td>1</td>\n",
              "      <td>6.0</td>\n",
              "      <td>353733</td>\n",
              "      <td>1</td>\n",
              "      <td>6.0</td>\n",
              "      <td>3887563113</td>\n",
              "      <td>42516</td>\n",
              "      <td>Seizure</td>\n",
              "      <td>3</td>\n",
              "      <td>0</td>\n",
              "      <td>0</td>\n",
              "      <td>0</td>\n",
              "      <td>0</td>\n",
              "      <td>0</td>\n",
              "    </tr>\n",
              "    <tr>\n",
              "      <th>2</th>\n",
              "      <td>1628180742</td>\n",
              "      <td>2</td>\n",
              "      <td>8.0</td>\n",
              "      <td>353733</td>\n",
              "      <td>2</td>\n",
              "      <td>8.0</td>\n",
              "      <td>1142670488</td>\n",
              "      <td>42516</td>\n",
              "      <td>Seizure</td>\n",
              "      <td>3</td>\n",
              "      <td>0</td>\n",
              "      <td>0</td>\n",
              "      <td>0</td>\n",
              "      <td>0</td>\n",
              "      <td>0</td>\n",
              "    </tr>\n",
              "    <tr>\n",
              "      <th>3</th>\n",
              "      <td>1628180742</td>\n",
              "      <td>3</td>\n",
              "      <td>18.0</td>\n",
              "      <td>353733</td>\n",
              "      <td>3</td>\n",
              "      <td>18.0</td>\n",
              "      <td>2718991173</td>\n",
              "      <td>42516</td>\n",
              "      <td>Seizure</td>\n",
              "      <td>3</td>\n",
              "      <td>0</td>\n",
              "      <td>0</td>\n",
              "      <td>0</td>\n",
              "      <td>0</td>\n",
              "      <td>0</td>\n",
              "    </tr>\n",
              "    <tr>\n",
              "      <th>4</th>\n",
              "      <td>1628180742</td>\n",
              "      <td>4</td>\n",
              "      <td>24.0</td>\n",
              "      <td>353733</td>\n",
              "      <td>4</td>\n",
              "      <td>24.0</td>\n",
              "      <td>3080632009</td>\n",
              "      <td>42516</td>\n",
              "      <td>Seizure</td>\n",
              "      <td>3</td>\n",
              "      <td>0</td>\n",
              "      <td>0</td>\n",
              "      <td>0</td>\n",
              "      <td>0</td>\n",
              "      <td>0</td>\n",
              "    </tr>\n",
              "    <tr>\n",
              "      <th>...</th>\n",
              "      <td>...</td>\n",
              "      <td>...</td>\n",
              "      <td>...</td>\n",
              "      <td>...</td>\n",
              "      <td>...</td>\n",
              "      <td>...</td>\n",
              "      <td>...</td>\n",
              "      <td>...</td>\n",
              "      <td>...</td>\n",
              "      <td>...</td>\n",
              "      <td>...</td>\n",
              "      <td>...</td>\n",
              "      <td>...</td>\n",
              "      <td>...</td>\n",
              "      <td>...</td>\n",
              "    </tr>\n",
              "    <tr>\n",
              "      <th>106795</th>\n",
              "      <td>351917269</td>\n",
              "      <td>6</td>\n",
              "      <td>12.0</td>\n",
              "      <td>2147388374</td>\n",
              "      <td>6</td>\n",
              "      <td>12.0</td>\n",
              "      <td>4195677307</td>\n",
              "      <td>10351</td>\n",
              "      <td>LRDA</td>\n",
              "      <td>0</td>\n",
              "      <td>0</td>\n",
              "      <td>0</td>\n",
              "      <td>3</td>\n",
              "      <td>0</td>\n",
              "      <td>0</td>\n",
              "    </tr>\n",
              "    <tr>\n",
              "      <th>106796</th>\n",
              "      <td>351917269</td>\n",
              "      <td>7</td>\n",
              "      <td>14.0</td>\n",
              "      <td>2147388374</td>\n",
              "      <td>7</td>\n",
              "      <td>14.0</td>\n",
              "      <td>290896675</td>\n",
              "      <td>10351</td>\n",
              "      <td>LRDA</td>\n",
              "      <td>0</td>\n",
              "      <td>0</td>\n",
              "      <td>0</td>\n",
              "      <td>3</td>\n",
              "      <td>0</td>\n",
              "      <td>0</td>\n",
              "    </tr>\n",
              "    <tr>\n",
              "      <th>106797</th>\n",
              "      <td>351917269</td>\n",
              "      <td>8</td>\n",
              "      <td>16.0</td>\n",
              "      <td>2147388374</td>\n",
              "      <td>8</td>\n",
              "      <td>16.0</td>\n",
              "      <td>461435451</td>\n",
              "      <td>10351</td>\n",
              "      <td>LRDA</td>\n",
              "      <td>0</td>\n",
              "      <td>0</td>\n",
              "      <td>0</td>\n",
              "      <td>3</td>\n",
              "      <td>0</td>\n",
              "      <td>0</td>\n",
              "    </tr>\n",
              "    <tr>\n",
              "      <th>106798</th>\n",
              "      <td>351917269</td>\n",
              "      <td>9</td>\n",
              "      <td>18.0</td>\n",
              "      <td>2147388374</td>\n",
              "      <td>9</td>\n",
              "      <td>18.0</td>\n",
              "      <td>3786213131</td>\n",
              "      <td>10351</td>\n",
              "      <td>LRDA</td>\n",
              "      <td>0</td>\n",
              "      <td>0</td>\n",
              "      <td>0</td>\n",
              "      <td>3</td>\n",
              "      <td>0</td>\n",
              "      <td>0</td>\n",
              "    </tr>\n",
              "    <tr>\n",
              "      <th>106799</th>\n",
              "      <td>351917269</td>\n",
              "      <td>10</td>\n",
              "      <td>20.0</td>\n",
              "      <td>2147388374</td>\n",
              "      <td>10</td>\n",
              "      <td>20.0</td>\n",
              "      <td>3642716176</td>\n",
              "      <td>10351</td>\n",
              "      <td>LRDA</td>\n",
              "      <td>0</td>\n",
              "      <td>0</td>\n",
              "      <td>0</td>\n",
              "      <td>3</td>\n",
              "      <td>0</td>\n",
              "      <td>0</td>\n",
              "    </tr>\n",
              "  </tbody>\n",
              "</table>\n",
              "<p>106800 rows × 15 columns</p>\n",
              "</div>\n",
              "    <div class=\"colab-df-buttons\">\n",
              "\n",
              "  <div class=\"colab-df-container\">\n",
              "    <button class=\"colab-df-convert\" onclick=\"convertToInteractive('df-cd10a9b9-c8bb-4a17-b553-b53e6e285666')\"\n",
              "            title=\"Convert this dataframe to an interactive table.\"\n",
              "            style=\"display:none;\">\n",
              "\n",
              "  <svg xmlns=\"http://www.w3.org/2000/svg\" height=\"24px\" viewBox=\"0 -960 960 960\">\n",
              "    <path d=\"M120-120v-720h720v720H120Zm60-500h600v-160H180v160Zm220 220h160v-160H400v160Zm0 220h160v-160H400v160ZM180-400h160v-160H180v160Zm440 0h160v-160H620v160ZM180-180h160v-160H180v160Zm440 0h160v-160H620v160Z\"/>\n",
              "  </svg>\n",
              "    </button>\n",
              "\n",
              "  <style>\n",
              "    .colab-df-container {\n",
              "      display:flex;\n",
              "      gap: 12px;\n",
              "    }\n",
              "\n",
              "    .colab-df-convert {\n",
              "      background-color: #E8F0FE;\n",
              "      border: none;\n",
              "      border-radius: 50%;\n",
              "      cursor: pointer;\n",
              "      display: none;\n",
              "      fill: #1967D2;\n",
              "      height: 32px;\n",
              "      padding: 0 0 0 0;\n",
              "      width: 32px;\n",
              "    }\n",
              "\n",
              "    .colab-df-convert:hover {\n",
              "      background-color: #E2EBFA;\n",
              "      box-shadow: 0px 1px 2px rgba(60, 64, 67, 0.3), 0px 1px 3px 1px rgba(60, 64, 67, 0.15);\n",
              "      fill: #174EA6;\n",
              "    }\n",
              "\n",
              "    .colab-df-buttons div {\n",
              "      margin-bottom: 4px;\n",
              "    }\n",
              "\n",
              "    [theme=dark] .colab-df-convert {\n",
              "      background-color: #3B4455;\n",
              "      fill: #D2E3FC;\n",
              "    }\n",
              "\n",
              "    [theme=dark] .colab-df-convert:hover {\n",
              "      background-color: #434B5C;\n",
              "      box-shadow: 0px 1px 3px 1px rgba(0, 0, 0, 0.15);\n",
              "      filter: drop-shadow(0px 1px 2px rgba(0, 0, 0, 0.3));\n",
              "      fill: #FFFFFF;\n",
              "    }\n",
              "  </style>\n",
              "\n",
              "    <script>\n",
              "      const buttonEl =\n",
              "        document.querySelector('#df-cd10a9b9-c8bb-4a17-b553-b53e6e285666 button.colab-df-convert');\n",
              "      buttonEl.style.display =\n",
              "        google.colab.kernel.accessAllowed ? 'block' : 'none';\n",
              "\n",
              "      async function convertToInteractive(key) {\n",
              "        const element = document.querySelector('#df-cd10a9b9-c8bb-4a17-b553-b53e6e285666');\n",
              "        const dataTable =\n",
              "          await google.colab.kernel.invokeFunction('convertToInteractive',\n",
              "                                                    [key], {});\n",
              "        if (!dataTable) return;\n",
              "\n",
              "        const docLinkHtml = 'Like what you see? Visit the ' +\n",
              "          '<a target=\"_blank\" href=https://colab.research.google.com/notebooks/data_table.ipynb>data table notebook</a>'\n",
              "          + ' to learn more about interactive tables.';\n",
              "        element.innerHTML = '';\n",
              "        dataTable['output_type'] = 'display_data';\n",
              "        await google.colab.output.renderOutput(dataTable, element);\n",
              "        const docLink = document.createElement('div');\n",
              "        docLink.innerHTML = docLinkHtml;\n",
              "        element.appendChild(docLink);\n",
              "      }\n",
              "    </script>\n",
              "  </div>\n",
              "\n",
              "\n",
              "<div id=\"df-f9d7f5da-6309-47fc-a124-0016819cfa09\">\n",
              "  <button class=\"colab-df-quickchart\" onclick=\"quickchart('df-f9d7f5da-6309-47fc-a124-0016819cfa09')\"\n",
              "            title=\"Suggest charts\"\n",
              "            style=\"display:none;\">\n",
              "\n",
              "<svg xmlns=\"http://www.w3.org/2000/svg\" height=\"24px\"viewBox=\"0 0 24 24\"\n",
              "     width=\"24px\">\n",
              "    <g>\n",
              "        <path d=\"M19 3H5c-1.1 0-2 .9-2 2v14c0 1.1.9 2 2 2h14c1.1 0 2-.9 2-2V5c0-1.1-.9-2-2-2zM9 17H7v-7h2v7zm4 0h-2V7h2v10zm4 0h-2v-4h2v4z\"/>\n",
              "    </g>\n",
              "</svg>\n",
              "  </button>\n",
              "\n",
              "<style>\n",
              "  .colab-df-quickchart {\n",
              "      --bg-color: #E8F0FE;\n",
              "      --fill-color: #1967D2;\n",
              "      --hover-bg-color: #E2EBFA;\n",
              "      --hover-fill-color: #174EA6;\n",
              "      --disabled-fill-color: #AAA;\n",
              "      --disabled-bg-color: #DDD;\n",
              "  }\n",
              "\n",
              "  [theme=dark] .colab-df-quickchart {\n",
              "      --bg-color: #3B4455;\n",
              "      --fill-color: #D2E3FC;\n",
              "      --hover-bg-color: #434B5C;\n",
              "      --hover-fill-color: #FFFFFF;\n",
              "      --disabled-bg-color: #3B4455;\n",
              "      --disabled-fill-color: #666;\n",
              "  }\n",
              "\n",
              "  .colab-df-quickchart {\n",
              "    background-color: var(--bg-color);\n",
              "    border: none;\n",
              "    border-radius: 50%;\n",
              "    cursor: pointer;\n",
              "    display: none;\n",
              "    fill: var(--fill-color);\n",
              "    height: 32px;\n",
              "    padding: 0;\n",
              "    width: 32px;\n",
              "  }\n",
              "\n",
              "  .colab-df-quickchart:hover {\n",
              "    background-color: var(--hover-bg-color);\n",
              "    box-shadow: 0 1px 2px rgba(60, 64, 67, 0.3), 0 1px 3px 1px rgba(60, 64, 67, 0.15);\n",
              "    fill: var(--button-hover-fill-color);\n",
              "  }\n",
              "\n",
              "  .colab-df-quickchart-complete:disabled,\n",
              "  .colab-df-quickchart-complete:disabled:hover {\n",
              "    background-color: var(--disabled-bg-color);\n",
              "    fill: var(--disabled-fill-color);\n",
              "    box-shadow: none;\n",
              "  }\n",
              "\n",
              "  .colab-df-spinner {\n",
              "    border: 2px solid var(--fill-color);\n",
              "    border-color: transparent;\n",
              "    border-bottom-color: var(--fill-color);\n",
              "    animation:\n",
              "      spin 1s steps(1) infinite;\n",
              "  }\n",
              "\n",
              "  @keyframes spin {\n",
              "    0% {\n",
              "      border-color: transparent;\n",
              "      border-bottom-color: var(--fill-color);\n",
              "      border-left-color: var(--fill-color);\n",
              "    }\n",
              "    20% {\n",
              "      border-color: transparent;\n",
              "      border-left-color: var(--fill-color);\n",
              "      border-top-color: var(--fill-color);\n",
              "    }\n",
              "    30% {\n",
              "      border-color: transparent;\n",
              "      border-left-color: var(--fill-color);\n",
              "      border-top-color: var(--fill-color);\n",
              "      border-right-color: var(--fill-color);\n",
              "    }\n",
              "    40% {\n",
              "      border-color: transparent;\n",
              "      border-right-color: var(--fill-color);\n",
              "      border-top-color: var(--fill-color);\n",
              "    }\n",
              "    60% {\n",
              "      border-color: transparent;\n",
              "      border-right-color: var(--fill-color);\n",
              "    }\n",
              "    80% {\n",
              "      border-color: transparent;\n",
              "      border-right-color: var(--fill-color);\n",
              "      border-bottom-color: var(--fill-color);\n",
              "    }\n",
              "    90% {\n",
              "      border-color: transparent;\n",
              "      border-bottom-color: var(--fill-color);\n",
              "    }\n",
              "  }\n",
              "</style>\n",
              "\n",
              "  <script>\n",
              "    async function quickchart(key) {\n",
              "      const quickchartButtonEl =\n",
              "        document.querySelector('#' + key + ' button');\n",
              "      quickchartButtonEl.disabled = true;  // To prevent multiple clicks.\n",
              "      quickchartButtonEl.classList.add('colab-df-spinner');\n",
              "      try {\n",
              "        const charts = await google.colab.kernel.invokeFunction(\n",
              "            'suggestCharts', [key], {});\n",
              "      } catch (error) {\n",
              "        console.error('Error during call to suggestCharts:', error);\n",
              "      }\n",
              "      quickchartButtonEl.classList.remove('colab-df-spinner');\n",
              "      quickchartButtonEl.classList.add('colab-df-quickchart-complete');\n",
              "    }\n",
              "    (() => {\n",
              "      let quickchartButtonEl =\n",
              "        document.querySelector('#df-f9d7f5da-6309-47fc-a124-0016819cfa09 button');\n",
              "      quickchartButtonEl.style.display =\n",
              "        google.colab.kernel.accessAllowed ? 'block' : 'none';\n",
              "    })();\n",
              "  </script>\n",
              "</div>\n",
              "\n",
              "  <div id=\"id_7df2cf57-09b4-48e0-83b0-3b1021c3a092\">\n",
              "    <style>\n",
              "      .colab-df-generate {\n",
              "        background-color: #E8F0FE;\n",
              "        border: none;\n",
              "        border-radius: 50%;\n",
              "        cursor: pointer;\n",
              "        display: none;\n",
              "        fill: #1967D2;\n",
              "        height: 32px;\n",
              "        padding: 0 0 0 0;\n",
              "        width: 32px;\n",
              "      }\n",
              "\n",
              "      .colab-df-generate:hover {\n",
              "        background-color: #E2EBFA;\n",
              "        box-shadow: 0px 1px 2px rgba(60, 64, 67, 0.3), 0px 1px 3px 1px rgba(60, 64, 67, 0.15);\n",
              "        fill: #174EA6;\n",
              "      }\n",
              "\n",
              "      [theme=dark] .colab-df-generate {\n",
              "        background-color: #3B4455;\n",
              "        fill: #D2E3FC;\n",
              "      }\n",
              "\n",
              "      [theme=dark] .colab-df-generate:hover {\n",
              "        background-color: #434B5C;\n",
              "        box-shadow: 0px 1px 3px 1px rgba(0, 0, 0, 0.15);\n",
              "        filter: drop-shadow(0px 1px 2px rgba(0, 0, 0, 0.3));\n",
              "        fill: #FFFFFF;\n",
              "      }\n",
              "    </style>\n",
              "    <button class=\"colab-df-generate\" onclick=\"generateWithVariable('df_train')\"\n",
              "            title=\"Generate code using this dataframe.\"\n",
              "            style=\"display:none;\">\n",
              "\n",
              "  <svg xmlns=\"http://www.w3.org/2000/svg\" height=\"24px\"viewBox=\"0 0 24 24\"\n",
              "       width=\"24px\">\n",
              "    <path d=\"M7,19H8.4L18.45,9,17,7.55,7,17.6ZM5,21V16.75L18.45,3.32a2,2,0,0,1,2.83,0l1.4,1.43a1.91,1.91,0,0,1,.58,1.4,1.91,1.91,0,0,1-.58,1.4L9.25,21ZM18.45,9,17,7.55Zm-12,3A5.31,5.31,0,0,0,4.9,8.1,5.31,5.31,0,0,0,1,6.5,5.31,5.31,0,0,0,4.9,4.9,5.31,5.31,0,0,0,6.5,1,5.31,5.31,0,0,0,8.1,4.9,5.31,5.31,0,0,0,12,6.5,5.46,5.46,0,0,0,6.5,12Z\"/>\n",
              "  </svg>\n",
              "    </button>\n",
              "    <script>\n",
              "      (() => {\n",
              "      const buttonEl =\n",
              "        document.querySelector('#id_7df2cf57-09b4-48e0-83b0-3b1021c3a092 button.colab-df-generate');\n",
              "      buttonEl.style.display =\n",
              "        google.colab.kernel.accessAllowed ? 'block' : 'none';\n",
              "\n",
              "      buttonEl.onclick = () => {\n",
              "        google.colab.notebook.generateWithVariable('df_train');\n",
              "      }\n",
              "      })();\n",
              "    </script>\n",
              "  </div>\n",
              "\n",
              "    </div>\n",
              "  </div>\n"
            ],
            "application/vnd.google.colaboratory.intrinsic+json": {
              "type": "dataframe",
              "variable_name": "df_train"
            }
          },
          "metadata": {},
          "execution_count": 14
        }
      ],
      "source": [
        "df_train"
      ]
    },
    {
      "cell_type": "code",
      "execution_count": 15,
      "metadata": {
        "id": "7TapkCEi3esa"
      },
      "outputs": [],
      "source": [
        "target = df_train.columns[-6:]\n",
        "data = df_train.columns[:-6]\n",
        "x = df_train[data]\n",
        "\n",
        "y = df_train[target].values\n",
        "sum_y = y.sum(axis = 1 ,keepdims=True)\n",
        "y = y / sum_y\n",
        "target = y\n",
        "\n",
        "# x는 pd 형식의 훈련데이터, y는 value만 뽑아냄"
      ]
    },
    {
      "cell_type": "code",
      "execution_count": 16,
      "metadata": {
        "id": "fmO8iAOO3fgj"
      },
      "outputs": [],
      "source": [
        "eeg_dir = \"/content/train_eegs\"\n",
        "spectrogram_dir = \"/content/train_spectrograms\""
      ]
    },
    {
      "cell_type": "markdown",
      "metadata": {
        "id": "GW_I5NPj-_Mr"
      },
      "source": [
        "eeg_id - spectrogram_id - eeg,spectrogram_path"
      ]
    },
    {
      "cell_type": "markdown",
      "metadata": {
        "id": "R0OmuGt-x0cb"
      },
      "source": [
        "preprocessing"
      ]
    },
    {
      "cell_type": "code",
      "execution_count": 17,
      "metadata": {
        "id": "T_rd149K3gZi"
      },
      "outputs": [],
      "source": [
        "train_x = x.groupby('eeg_id')[['spectrogram_id','spectrogram_label_offset_seconds']].agg(\n",
        "    {'spectrogram_id':'first'})\n",
        "train_x.columns = ['spec_id']\n",
        "\n",
        "tmp = x.groupby('eeg_id')[['patient_id']].agg('first') # The code adds the patient_id for each eeg_id to the train DataFrame. This links each EEG segment to a specific patient.\n",
        "train_x['patient_id'] = tmp\n",
        "\n",
        "target_column = ['seizure_vote' ,'lpd_vote','gpd_vote','lrda_vote','grda_vote','other_vote']\n",
        "tmp = df_train.groupby('eeg_id')[target_column].agg('sum')\n",
        "for t in target_column:\n",
        "    train_x[t] = tmp[t].values\n",
        "\n",
        "y = train_x[target_column].values\n",
        "y = y / y.sum(axis = 1, keepdims = True)\n",
        "train_x[target_column] = y\n",
        "\n",
        "tmp = x.groupby('eeg_id')[['expert_consensus']].agg('first')\n",
        "train_x['target'] = tmp\n",
        "\n",
        "train_x = train_x.reset_index()"
      ]
    },
    {
      "cell_type": "code",
      "execution_count": 18,
      "metadata": {
        "id": "jgPjGiiR3hcy"
      },
      "outputs": [],
      "source": [
        "train_x['eeg_path'] = train_x['eeg_id'].apply(lambda x: os.path.join(eeg_dir, f'{x}.parquet'))\n",
        "train_x['spectrogram_path'] = train_x['spec_id'].apply(lambda x: os.path.join(spectrogram_dir, f'{x}.parquet'))"
      ]
    },
    {
      "cell_type": "code",
      "execution_count": 19,
      "metadata": {
        "id": "NFv5DV5l3iw7"
      },
      "outputs": [],
      "source": [
        "train_x['patient_id'] = (train_x['patient_id'] - train_x['patient_id'].min()) / (train_x['patient_id'].max() - train_x['patient_id'].min())\n",
        "train_x['eeg_id'] = (train_x['eeg_id'] - train_x['eeg_id'].min()) / (train_x['eeg_id'].max() - train_x['eeg_id'].min())\n",
        "train_x['spec_id'] = (train_x['spec_id'] - train_x['spec_id'].min()) / (train_x['spec_id'].max() - train_x['spec_id'].min())\n",
        "\n",
        "x = train_x\n",
        "x = x.fillna(0)"
      ]
    },
    {
      "cell_type": "code",
      "execution_count": 20,
      "metadata": {
        "id": "agSjuA293j1q"
      },
      "outputs": [],
      "source": [
        "x['Seizure'] = 0\n",
        "x['GPD'] = 0\n",
        "x['LPD'] = 0\n",
        "x['LPDA'] = 0\n",
        "x['GPDA'] = 0\n",
        "x['Other'] = 0\n",
        "\n",
        "x.loc[x['target'] == 'Seizure', 'Seizure'] = 1\n",
        "x.loc[x['target'] == 'GPD', 'GPD'] = 2\n",
        "x.loc[x['target'] == 'LPD' , 'LPD'] = 3\n",
        "x.loc[x['target'] == 'LPDA' , 'LPDA'] = 4\n",
        "x.loc[x['target'] == 'GPDA' , 'GPDA'] = 5\n",
        "x.loc[x['target'] == 'Other' , 'Other'] = 6\n",
        "\n",
        "x['answer'] = x['target']\n",
        "\n",
        "x['target'] = x['Seizure'] + x['GPD'] + x['LPD'] + x['LPDA'] + x['GPDA'] + x['Other']\n",
        "\n",
        "x.drop(['Seizure' , 'GPD' , 'LPD' , 'LPDA' , 'GPDA' , 'Other'] , axis = 1 , inplace = True)"
      ]
    },
    {
      "cell_type": "markdown",
      "metadata": {
        "id": "Fx5MP-_Cx213"
      },
      "source": [
        "data loader func"
      ]
    },
    {
      "cell_type": "code",
      "execution_count": 21,
      "metadata": {
        "id": "WslxdCte3lA6"
      },
      "outputs": [],
      "source": [
        "def load_spectrogram_data(spec_path):\n",
        "    if os.path.isfile(spec_path):\n",
        "        spec_data = pd.read_parquet(spec_path)\n",
        "        return spec_data\n",
        "    else:\n",
        "        print(f\"Invalid file path: {spec_path}\")\n",
        "        return None"
      ]
    },
    {
      "cell_type": "code",
      "execution_count": 22,
      "metadata": {
        "id": "zJ0XkM8P3l3S"
      },
      "outputs": [],
      "source": [
        "class data_loader(Dataset):\n",
        "    def __init__(self,imgs, targets):\n",
        "        self.imgs=imgs\n",
        "        self.targets=targets\n",
        "    def __len__(self):\n",
        "        return len(self.imgs)\n",
        "\n",
        "    def __getitem__(self , idx):\n",
        "        image_path=self.imgs[idx]\n",
        "        target_path=self.targets[idx]\n",
        "\n",
        "        return image_path , target_path"
      ]
    },
    {
      "cell_type": "code",
      "execution_count": 23,
      "metadata": {
        "id": "JWK2aqxN3oaq"
      },
      "outputs": [],
      "source": [
        "class Spec():\n",
        "    def __init__(self, start , batch):\n",
        "      self.start = start\n",
        "      self.batch = batch\n",
        "\n",
        "    def spec_input(self , for_train):\n",
        "      if for_train == 1:\n",
        "        img = []\n",
        "        target = []\n",
        "        columns = ['seizure_vote' , 'lpd_vote' , 'gpd_vote' , 'lrda_vote' , 'grda_vote', 'other_vote']\n",
        "\n",
        "        for i in range(self.start , self.start + self.batch):\n",
        "          idx = i - self.start\n",
        "          img.append(0)\n",
        "          img[idx] = load_spectrogram_data(x['spectrogram_path'][i])\n",
        "          target.append(0)\n",
        "          target[idx] = x.loc[i][columns]\n",
        "\n",
        "          target[idx] = target[idx].values\n",
        "          target[idx] = np.array(target[idx])\n",
        "          target[idx] = target[idx].tolist()\n",
        "          target[idx] = np.array(target[idx])\n",
        "\n",
        "          # spec data 만들기\n",
        "          sp_offset = int(offset[i])\n",
        "          sp = img[idx].loc[(img[idx].time>=sp_offset)&(img[idx].time<sp_offset+600)]\n",
        "          img[idx] = sp\n",
        "\n",
        "          img[idx] = img[idx].iloc[: , 1:401]\n",
        "\n",
        "          img[idx] = img[idx].fillna(0)\n",
        "          img[idx] = img[idx].values\n",
        "          img[idx] = np.array(img[idx])\n",
        "      else:\n",
        "        img = []\n",
        "        target = 0\n",
        "        columns = ['seizure_vote' , 'lpd_vote' , 'gpd_vote' , 'lrda_vote' , 'grda_vote', 'other_vote']\n",
        "\n",
        "        for i in range(self.start , self.start + self.batch):\n",
        "            idx = i - self.start\n",
        "            img.append(0)\n",
        "            img[idx] = load_spectrogram_data(df_test['spec_path'][i])\n",
        "            img[idx] = img[idx].iloc[: , 1:401]\n",
        "\n",
        "            img[idx] = img[idx].fillna(0)\n",
        "            img[idx] = img[idx].values\n",
        "            img[idx] = np.array(img[idx])\n",
        "\n",
        "      return img , target"
      ]
    },
    {
      "cell_type": "code",
      "execution_count": 24,
      "metadata": {
        "id": "xxC7QC-A3pq0"
      },
      "outputs": [],
      "source": [
        "spec = Spec(0 , x.shape[0])\n",
        "image , label_y = spec.spec_input(1)"
      ]
    },
    {
      "cell_type": "markdown",
      "metadata": {
        "id": "I_q2C-5INJjE"
      },
      "source": [
        "image visualization"
      ]
    },
    {
      "cell_type": "code",
      "execution_count": 25,
      "metadata": {
        "colab": {
          "base_uri": "https://localhost:8080/",
          "height": 406
        },
        "id": "sq0Yo02BNJHq",
        "outputId": "741f09e6-168b-4dc6-99b0-dd0672407e41"
      },
      "outputs": [
        {
          "output_type": "display_data",
          "data": {
            "text/plain": [
              "<Figure size 640x480 with 1 Axes>"
            ],
            "image/png": "[encoded data removed]"
          },
          "metadata": {}
        }
      ],
      "source": [
        "# NumPy 배열을 이미지로 시각화\n",
        "plt.imshow(image[1])\n",
        "plt.axis('off')  # 축 제거\n",
        "plt.show()"
      ]
    },
    {
      "cell_type": "markdown",
      "metadata": {
        "id": "rupebMzM_JQK"
      },
      "source": [
        "data preprocessing - (2)"
      ]
    },
    {
      "cell_type": "code",
      "execution_count": 26,
      "metadata": {
        "id": "0NpqoCEwiYRs"
      },
      "outputs": [],
      "source": [
        "def making_dataset(image , label_y , for_train):\n",
        "  if for_train == 1:\n",
        "    target= 0\n",
        "    target = torch.tensor(label_y)\n",
        "    target = np.array(target)\n",
        "    for i in range(len(target)):\n",
        "      target[i] = np.array(target[i])\n",
        "    target = target.tolist()\n",
        "\n",
        "    result = []\n",
        "    for i in range(len(image)):\n",
        "      result.append(0)\n",
        "      im = torch.tensor(image[i])\n",
        "      result[i] = torch.log(im + 0.0000000000000001)\n",
        "      result[i] = np.array(result[i])\n",
        "\n",
        "    for j in range(len(image)):\n",
        "      i = len(image) - j\n",
        "      if len(result) >= i+1:\n",
        "        if len(target) >= i+1:\n",
        "          if result[i].shape[0] < 1:\n",
        "            del result[i]\n",
        "            del target[i]\n",
        "\n",
        "    transform = transforms.Compose([\n",
        "      transforms.Resize((672,224)),\n",
        "      #transforms.RandomHorizontalFlip(p=0.3),\n",
        "      #transforms.RandomVerticalFlip(p=0.3),\n",
        "    ])\n",
        "\n",
        "    for i in range(len(result)):\n",
        "      result[i] = torch.tensor(result[i])\n",
        "      result[i] = result[i].unsqueeze(0)\n",
        "      result[i] = torch.tensor(result[i])\n",
        "      target[i] = torch.tensor(target[i])\n",
        "\n",
        "    for i in range(len(result)):\n",
        "      result[i] = transform(result[i])\n",
        "      if result[i].max() != result[i].min():\n",
        "        result[i] = (result[i]-result[i].max())/(result[i].max() - result[i].min())\n",
        "      else:\n",
        "        result[i] = torch.zeros(672,224)\n",
        "\n",
        "      result[i] = result[i].reshape(3,224,224)\n",
        "\n",
        "  else:\n",
        "    result = []\n",
        "    target= 0\n",
        "    for i in range(len(image)):\n",
        "      result.append(0)\n",
        "      im = torch.tensor(image[i])\n",
        "      result[i] = torch.log(im + 0.0000000000000001)\n",
        "      result[i] = np.array(result[i])\n",
        "\n",
        "    for j in range(len(image)):\n",
        "      i = len(image) - j\n",
        "      if len(result) >= i+1:\n",
        "        if result[i].shape[0] < 1:\n",
        "          del result[i]\n",
        "\n",
        "    transform = transforms.Compose([\n",
        "      transforms.Resize((672,224)),\n",
        "    ])\n",
        "\n",
        "    for i in range(len(result)):\n",
        "      result[i] = torch.tensor(result[i])\n",
        "      result[i] = result[i].unsqueeze(0)\n",
        "      result[i] = torch.tensor(result[i])\n",
        "\n",
        "    for i in range(len(result)):\n",
        "      result[i] = transform(result[i])\n",
        "      if result[i].max() != result[i].min():\n",
        "        result[i] = (result[i]-result[i].max())/(result[i].max() - result[i].min())\n",
        "      else:\n",
        "        result[i] = torch.zeros(672,224)\n",
        "      result[i] = result[i].reshape(3,224,224)\n",
        "\n",
        "\n",
        "  return result , target # result.shape : (3,224,224)"
      ]
    },
    {
      "cell_type": "code",
      "execution_count": 27,
      "metadata": {
        "id": "k1qB3PInB_rk"
      },
      "outputs": [],
      "source": [
        "data,target=making_dataset(image,label_y,1)"
      ]
    },
    {
      "cell_type": "markdown",
      "metadata": {
        "id": "ZZ4ltYUZO5dK"
      },
      "source": [
        "image visualization after log transformation"
      ]
    },
    {
      "cell_type": "code",
      "execution_count": 28,
      "metadata": {
        "colab": {
          "base_uri": "https://localhost:8080/",
          "height": 406
        },
        "id": "WM0DlNQcO3V5",
        "outputId": "a341f58c-7124-474d-cefa-005271d87f5b"
      },
      "outputs": [
        {
          "output_type": "display_data",
          "data": {
            "text/plain": [
              "<Figure size 640x480 with 1 Axes>"
            ],
            "image/png": "[encoded data removed]"
          },
          "metadata": {}
        }
      ],
      "source": [
        "# NumPy 배열을 이미지로 시각화\n",
        "plt.imshow(data[0].view(672,224))\n",
        "plt.axis('off')  # 축 제거\n",
        "plt.show()"
      ]
    },
    {
      "cell_type": "code",
      "execution_count": 29,
      "metadata": {
        "colab": {
          "base_uri": "https://localhost:8080/"
        },
        "id": "vOxHZtkcib4t",
        "outputId": "2965ac78-6b3a-4dfe-ce87-860751037e9e"
      },
      "outputs": [
        {
          "output_type": "stream",
          "name": "stdout",
          "text": [
            "15122 15122\n"
          ]
        }
      ],
      "source": [
        "print(len(data) , len(target))"
      ]
    },
    {
      "cell_type": "markdown",
      "metadata": {
        "id": "YgJb6fub7Fzz"
      },
      "source": [
        "Data loader"
      ]
    },
    {
      "cell_type": "code",
      "execution_count": 30,
      "metadata": {
        "id": "tgEVYD9Midxl"
      },
      "outputs": [],
      "source": [
        "X_train, X_test, y_train, y_test = train_test_split(data, target, test_size=0.1, random_state=42)\n",
        "\n",
        "train_dataset = data_loader(X_train, y_train)\n",
        "test_dataset = data_loader(X_test,y_test)\n",
        "\n",
        "train_loader = DataLoader(train_dataset, batch_size=32, shuffle=True)\n",
        "test_loader = DataLoader(test_dataset, batch_size= int(len(X_test)*0.2), shuffle=True)"
      ]
    },
    {
      "cell_type": "markdown",
      "metadata": {
        "id": "uZMxYgIK_VSm"
      },
      "source": [
        "transfer learning or fine tuning\n",
        "\n",
        "finetuning"
      ]
    },
    {
      "cell_type": "code",
      "execution_count": null,
      "metadata": {
        "id": "-C7IOF9383eF"
      },
      "outputs": [],
      "source": [
        "!pip install timm\n",
        "import timm"
      ]
    },
    {
      "cell_type": "code",
      "execution_count": 32,
      "metadata": {
        "colab": {
          "base_uri": "https://localhost:8080/"
        },
        "id": "XE2J-brmGz74",
        "outputId": "2fd91fc7-0fb0-4094-bfcb-d113147aba42"
      },
      "outputs": [
        {
          "output_type": "stream",
          "name": "stdout",
          "text": [
            "['efficientnet_b0.ra4_e3600_r224_in1k', 'efficientnet_b0.ra_in1k', 'efficientnet_b1.ft_in1k', 'efficientnet_b1.ra4_e3600_r240_in1k', 'efficientnet_b1_pruned.in1k', 'efficientnet_b2.ra_in1k', 'efficientnet_b2_pruned.in1k', 'efficientnet_b3.ra2_in1k', 'efficientnet_b3_pruned.in1k', 'efficientnet_b4.ra2_in1k', 'efficientnet_b5.sw_in12k', 'efficientnet_b5.sw_in12k_ft_in1k', 'efficientnet_el.ra_in1k', 'efficientnet_el_pruned.in1k', 'efficientnet_em.ra2_in1k', 'efficientnet_es.ra_in1k', 'efficientnet_es_pruned.in1k', 'efficientnet_lite0.ra_in1k', 'efficientnetv2_rw_m.agc_in1k', 'efficientnetv2_rw_s.ra2_in1k', 'efficientnetv2_rw_t.ra2_in1k', 'gc_efficientnetv2_rw_t.agc_in1k', 'test_efficientnet.r160_in1k', 'tf_efficientnet_b0.aa_in1k', 'tf_efficientnet_b0.ap_in1k', 'tf_efficientnet_b0.in1k', 'tf_efficientnet_b0.ns_jft_in1k', 'tf_efficientnet_b1.aa_in1k', 'tf_efficientnet_b1.ap_in1k', 'tf_efficientnet_b1.in1k', 'tf_efficientnet_b1.ns_jft_in1k', 'tf_efficientnet_b2.aa_in1k', 'tf_efficientnet_b2.ap_in1k', 'tf_efficientnet_b2.in1k', 'tf_efficientnet_b2.ns_jft_in1k', 'tf_efficientnet_b3.aa_in1k', 'tf_efficientnet_b3.ap_in1k', 'tf_efficientnet_b3.in1k', 'tf_efficientnet_b3.ns_jft_in1k', 'tf_efficientnet_b4.aa_in1k', 'tf_efficientnet_b4.ap_in1k', 'tf_efficientnet_b4.in1k', 'tf_efficientnet_b4.ns_jft_in1k', 'tf_efficientnet_b5.aa_in1k', 'tf_efficientnet_b5.ap_in1k', 'tf_efficientnet_b5.in1k', 'tf_efficientnet_b5.ns_jft_in1k', 'tf_efficientnet_b5.ra_in1k', 'tf_efficientnet_b6.aa_in1k', 'tf_efficientnet_b6.ap_in1k', 'tf_efficientnet_b6.ns_jft_in1k', 'tf_efficientnet_b7.aa_in1k', 'tf_efficientnet_b7.ap_in1k', 'tf_efficientnet_b7.ns_jft_in1k', 'tf_efficientnet_b7.ra_in1k', 'tf_efficientnet_b8.ap_in1k', 'tf_efficientnet_b8.ra_in1k', 'tf_efficientnet_cc_b0_4e.in1k', 'tf_efficientnet_cc_b0_8e.in1k', 'tf_efficientnet_cc_b1_8e.in1k', 'tf_efficientnet_el.in1k', 'tf_efficientnet_em.in1k', 'tf_efficientnet_es.in1k', 'tf_efficientnet_l2.ns_jft_in1k', 'tf_efficientnet_l2.ns_jft_in1k_475', 'tf_efficientnet_lite0.in1k', 'tf_efficientnet_lite1.in1k', 'tf_efficientnet_lite2.in1k', 'tf_efficientnet_lite3.in1k', 'tf_efficientnet_lite4.in1k', 'tf_efficientnetv2_b0.in1k', 'tf_efficientnetv2_b1.in1k', 'tf_efficientnetv2_b2.in1k', 'tf_efficientnetv2_b3.in1k', 'tf_efficientnetv2_b3.in21k', 'tf_efficientnetv2_b3.in21k_ft_in1k', 'tf_efficientnetv2_l.in1k', 'tf_efficientnetv2_l.in21k', 'tf_efficientnetv2_l.in21k_ft_in1k', 'tf_efficientnetv2_m.in1k', 'tf_efficientnetv2_m.in21k', 'tf_efficientnetv2_m.in21k_ft_in1k', 'tf_efficientnetv2_s.in1k', 'tf_efficientnetv2_s.in21k', 'tf_efficientnetv2_s.in21k_ft_in1k', 'tf_efficientnetv2_xl.in21k', 'tf_efficientnetv2_xl.in21k_ft_in1k']\n"
          ]
        }
      ],
      "source": [
        "vit_models = [model_name for model_name in timm.list_models(pretrained=True) if 'efficientnet' in model_name]\n",
        "print(vit_models)"
      ]
    },
    {
      "cell_type": "code",
      "execution_count": 57,
      "metadata": {
        "id": "968Td-aBG7xG"
      },
      "outputs": [],
      "source": [
        "model_name = \"efficientnet_b0\"\n",
        "model = timm.create_model(model_name, pretrained=True)"
      ]
    },
    {
      "cell_type": "code",
      "execution_count": 47,
      "metadata": {
        "colab": {
          "base_uri": "https://localhost:8080/"
        },
        "id": "JYyKHSzpZWSx",
        "outputId": "f8768b58-9582-4402-f2cf-2ba44fe06583"
      },
      "outputs": [
        {
          "output_type": "stream",
          "name": "stdout",
          "text": [
            "Model Input Size: (3, 224, 224)\n"
          ]
        }
      ],
      "source": [
        "input_size = model.default_cfg['input_size']\n",
        "print(f\"Model Input Size: {input_size}\")"
      ]
    },
    {
      "cell_type": "code",
      "execution_count": 58,
      "metadata": {
        "id": "HW4bvK6aG9EJ"
      },
      "outputs": [],
      "source": [
        "input = 1280\n",
        "for param in model.parameters():\n",
        "  param_requires_grad = True\n",
        "del model.classifier\n",
        "model.classifier = nn.Sequential(\n",
        "    nn.Linear(input, 6),\n",
        "    nn.Softmax(dim=1)\n",
        ")\n",
        "#for param in model.head.classifier.parameters():\n",
        "#  param_requires_grad = True"
      ]
    },
    {
      "cell_type": "code",
      "execution_count": 59,
      "metadata": {
        "id": "OedWyNhikjRh"
      },
      "outputs": [],
      "source": [
        "model = model.to(device)"
      ]
    },
    {
      "cell_type": "markdown",
      "metadata": {
        "id": "_q-2gDnMVF8b"
      },
      "source": [
        "model 내부"
      ]
    },
    {
      "cell_type": "code",
      "execution_count": null,
      "metadata": {
        "collapsed": true,
        "id": "acSty2exZa8p"
      },
      "outputs": [],
      "source": [
        "model"
      ]
    },
    {
      "cell_type": "markdown",
      "metadata": {
        "id": "Wpms1oPb_pNp"
      },
      "source": [
        "Loss function define"
      ]
    },
    {
      "cell_type": "code",
      "execution_count": 60,
      "metadata": {
        "id": "O3IkIFoG3xnK"
      },
      "outputs": [],
      "source": [
        "kl_loss = nn.KLDivLoss(reduction= 'batchmean')\n",
        "softmax_loss = nn.Softmax()"
      ]
    },
    {
      "cell_type": "code",
      "source": [
        "# 1. `fc` 레이어의 파라미터를 미리 가져오기\n",
        "fc_params = list(model.classifier.parameters())\n",
        "\n",
        "# 2. 전체 모델의 파라미터 중 `fc`를 제외한 나머지 파라미터 선택\n",
        "remain_params = [p for p in model.parameters() if p not in set(fc_params)]\n",
        "remain_params_list = list(remain_params)"
      ],
      "metadata": {
        "id": "i05Gm-DvC9cy"
      },
      "execution_count": 61,
      "outputs": []
    },
    {
      "cell_type": "code",
      "source": [
        "# 3. 파라미터 그룹화: 전체 파라미터와 새로 추가된 파라미터에 다른 학습률 적용\n",
        "optimizer = torch.optim.Adam([\n",
        "    {'params': fc_params, 'lr': 0.005},  # 새 레이어는 높은 학습률\n",
        "    {'params': remain_params_list, 'lr': 1e-6}      # 기존 파라미터는 낮은 학습률\n",
        "])\n",
        "\n",
        "scheduler = CosineAnnealingLR(optimizer, T_max=100, eta_min=0.0005)"
      ],
      "metadata": {
        "id": "Odc-K3LRCJyq"
      },
      "execution_count": 62,
      "outputs": []
    },
    {
      "cell_type": "code",
      "execution_count": 63,
      "metadata": {
        "id": "UQnIkKVyzsn6"
      },
      "outputs": [],
      "source": [
        "target_loss = 0.8  # 손실 기준 (이 값 이하가 되면 학습 중단)\n",
        "checkpoint_path = \"/content/drive/MyDrive/model_weight.pth\"  # 체크포인트 경로"
      ]
    },
    {
      "cell_type": "code",
      "execution_count": 64,
      "metadata": {
        "colab": {
          "base_uri": "https://localhost:8080/",
          "height": 488
        },
        "collapsed": true,
        "id": "gg5Yukwt30My",
        "outputId": "450cd893-ac48-4dd0-be2f-883c5002f2ee"
      },
      "outputs": [
        {
          "output_type": "stream",
          "name": "stdout",
          "text": [
            "Target loss 0.8 reached at epoch 1. Saving checkpoint...\n",
            "epoch : 0 , loss : 1.0813345909118652 , test_loss : 0.7647281885147095 , optimizer : 0.004290230988339619\n",
            "Target loss 0.8 reached at epoch 2. Saving checkpoint...\n",
            "epoch : 1 , loss : 1.1937121152877808 , test_loss : 0.6811025142669678 , optimizer : 0.0026087213310586077\n",
            "Target loss 0.8 reached at epoch 3. Saving checkpoint...\n",
            "epoch : 2 , loss : 0.5337737202644348 , test_loss : 0.7065491080284119 , optimizer : 0.0010163452037546062\n",
            "Target loss 0.8 reached at epoch 4. Saving checkpoint...\n",
            "epoch : 3 , loss : 0.7284358739852905 , test_loss : 0.7295732498168945 , optimizer : 0.0005177419220424294\n",
            "Target loss 0.8 reached at epoch 5. Saving checkpoint...\n",
            "epoch : 4 , loss : 0.6537694334983826 , test_loss : 0.7022789716720581 , optimizer : 0.0014274831823417264\n",
            "Target loss 0.8 reached at epoch 6. Saving checkpoint...\n",
            "epoch : 5 , loss : 0.3849574625492096 , test_loss : 0.68454509973526 , optimizer : 0.003171607957819734\n",
            "Target loss 0.8 reached at epoch 7. Saving checkpoint...\n",
            "epoch : 6 , loss : 0.23043230175971985 , test_loss : 0.7097144722938538 , optimizer : 0.004649737832378738\n",
            "Target loss 0.8 reached at epoch 8. Saving checkpoint...\n",
            "epoch : 7 , loss : 0.1692170351743698 , test_loss : 0.6114484071731567 , optimizer : 0.004929312112542515\n"
          ]
        },
        {
          "output_type": "error",
          "ename": "KeyboardInterrupt",
          "evalue": "",
          "traceback": [
            "\u001b[0;31m---------------------------------------------------------------------------\u001b[0m",
            "\u001b[0;31mKeyboardInterrupt\u001b[0m                         Traceback (most recent call last)",
            "\u001b[0;32m<ipython-input-64-cea66a690d49>\u001b[0m in \u001b[0;36m<cell line: 6>\u001b[0;34m()\u001b[0m\n\u001b[1;32m     12\u001b[0m     \u001b[0mlabels\u001b[0m \u001b[0;34m=\u001b[0m \u001b[0mlabels\u001b[0m\u001b[0;34m.\u001b[0m\u001b[0mto\u001b[0m\u001b[0;34m(\u001b[0m\u001b[0mtorch\u001b[0m\u001b[0;34m.\u001b[0m\u001b[0mfloat32\u001b[0m\u001b[0;34m)\u001b[0m\u001b[0;34m\u001b[0m\u001b[0;34m\u001b[0m\u001b[0m\n\u001b[1;32m     13\u001b[0m \u001b[0;34m\u001b[0m\u001b[0m\n\u001b[0;32m---> 14\u001b[0;31m     \u001b[0mimages\u001b[0m \u001b[0;34m=\u001b[0m \u001b[0mimages\u001b[0m\u001b[0;34m.\u001b[0m\u001b[0mto\u001b[0m\u001b[0;34m(\u001b[0m\u001b[0mdevice\u001b[0m\u001b[0;34m)\u001b[0m\u001b[0;34m\u001b[0m\u001b[0;34m\u001b[0m\u001b[0m\n\u001b[0m\u001b[1;32m     15\u001b[0m     \u001b[0mlabels\u001b[0m \u001b[0;34m=\u001b[0m \u001b[0mlabels\u001b[0m\u001b[0;34m.\u001b[0m\u001b[0mto\u001b[0m\u001b[0;34m(\u001b[0m\u001b[0mdevice\u001b[0m\u001b[0;34m)\u001b[0m\u001b[0;34m\u001b[0m\u001b[0;34m\u001b[0m\u001b[0m\n\u001b[1;32m     16\u001b[0m \u001b[0;34m\u001b[0m\u001b[0m\n",
            "\u001b[0;31mKeyboardInterrupt\u001b[0m: "
          ]
        }
      ],
      "source": [
        "cnt = 0\n",
        "loss_history = []\n",
        "test_loss_history = []\n",
        "softmax = nn.Softmax(dim=1)\n",
        "mse_loss = nn.MSELoss()\n",
        "for epoch in range(400000):\n",
        "  model.train()\n",
        "  for images, labels in train_loader:\n",
        "    images = torch.tensor(images)\n",
        "    images = images.to(torch.float32)\n",
        "    labels = torch.tensor(labels)\n",
        "    labels = labels.to(torch.float32)\n",
        "\n",
        "    images = images.to(device)\n",
        "    labels = labels.to(device)\n",
        "\n",
        "    #print(images.shape)\n",
        "\n",
        "    output = model(images)\n",
        "    log_probs = torch.log(output + 0.0000000000000001)\n",
        "\n",
        "    loss = kl_loss(log_probs, labels[:,:6])\n",
        "\n",
        "    # loss history append\n",
        "    loss_history.append(loss.item())\n",
        "\n",
        "    # Backward and optimize\n",
        "    optimizer.zero_grad()\n",
        "    loss.backward()\n",
        "    optimizer.step()\n",
        "    scheduler.step()\n",
        "\n",
        "  model.eval()\n",
        "  with torch.no_grad():\n",
        "    for input, test_label in  test_loader:\n",
        "      input = torch.tensor(input)\n",
        "      input = input.to(torch.float32)\n",
        "      test_label = torch.tensor(test_label)\n",
        "      test_label = test_label.to(torch.float32)\n",
        "\n",
        "      input = input.to(device)\n",
        "      test_label = test_label.to(device)\n",
        "\n",
        "      test_output = model(input)\n",
        "      test_log_prob = torch.log(test_output + 0.0000000000000001)\n",
        "\n",
        "      test_loss = kl_loss(test_log_prob, test_label[:,:6])\n",
        "\n",
        "      test_loss = test_loss.item()\n",
        "      test_loss_history.append(test_loss)\n",
        "\n",
        "    # 손실 기준을 만족하면 체크포인트 저장 및 학습 중단\n",
        "      if test_loss <= target_loss:\n",
        "        print(f\"Target loss {target_loss} reached at epoch {epoch+1}. Saving checkpoint...\")\n",
        "        torch.save(model.state_dict(), checkpoint_path)\n",
        "        break  # 학습 중단\n",
        "\n",
        "        print(\"Training finished.\")\n",
        "\n",
        "    print(\"epoch : {} , loss : {} , test_loss : {} , optimizer : {}\".format(epoch, loss , test_loss ,  optimizer.param_groups[0]['lr']))"
      ]
    },
    {
      "cell_type": "markdown",
      "metadata": {
        "id": "NQXsNivn3LCq"
      },
      "source": [
        "ram 비우기"
      ]
    },
    {
      "cell_type": "code",
      "execution_count": 65,
      "metadata": {
        "id": "09Kc30jq3LQU"
      },
      "outputs": [],
      "source": [
        "# 모델과 옵티마이저 삭제\n",
        "del model  # 모델 객체 삭제\n",
        "del optimizer  # 옵티마이저 객체 삭제 (필요 시)\n",
        "del scheduler\n",
        "\n",
        "# 가비지 컬렉터(gc)를 사용해 참조되지 않은 객체 정리\n",
        "gc.collect()  # CPU 메모리 해제\n",
        "\n",
        "# GPU 메모리 해제 (필요한 경우)\n",
        "if torch.cuda.is_available():\n",
        "    torch.cuda.empty_cache()\n",
        "    torch.cuda.ipc_collect()  # 추가적인 GPU 메모리 정리"
      ]
    },
    {
      "cell_type": "markdown",
      "metadata": {
        "id": "JtgtS7-qi3zA"
      },
      "source": [
        "추론"
      ]
    },
    {
      "cell_type": "code",
      "execution_count": null,
      "metadata": {
        "id": "1evU5CpUi3Nz"
      },
      "outputs": [],
      "source": [
        "test_spec_dir = '/content/test_spectrograms'\n",
        "df_test = pd.read_csv('/content/test.csv')\n",
        "df_test['spec_path'] = df_test['spectrogram_id'].apply(lambda x: os.path.join(test_spec_dir, f'{x}.parquet'))"
      ]
    },
    {
      "cell_type": "code",
      "execution_count": null,
      "metadata": {
        "id": "0qi5oEIuXWpm"
      },
      "outputs": [],
      "source": [
        "pred = model.eval()\n",
        "pred = pred.to(device)\n",
        "\n",
        "dfl = df_test['spec_path'].shape[0]\n",
        "np_test_preds = np.zeros((dfl , 6))"
      ]
    },
    {
      "cell_type": "code",
      "execution_count": null,
      "metadata": {
        "id": "nm2DLZvPXYdu"
      },
      "outputs": [],
      "source": [
        "fake_label = [0,0,0,0,0,0]\n",
        "fake_label = np.array(fake_label)\n",
        "for i in range(dfl):\n",
        "    test_spec_fun = Spec(i , 1)\n",
        "    test_spec , _ = test_spec_fun.spec_input(0)\n",
        "    test_spec = test_spec[0]\n",
        "    test_spec = torch.tensor(test_spec)\n",
        "    if test_spec.shape[0] > 0:\n",
        "        test_spec = torch.tensor(test_spec)\n",
        "        test_spec = test_spec.to(torch.float32)\n",
        "        test_spec = [test_spec]\n",
        "        test_spec , _ = making_dataset(test_spec ,fake_label, 0)\n",
        "        test_spec = np.array(test_spec[0])\n",
        "        test_spec = torch.tensor(test_spec)\n",
        "        test_spec=test_spec.to(device)\n",
        "        test_spec = test_spec.unsqueeze(0)\n",
        "        p = pred(test_spec)\n",
        "        pre = p.tolist()\n",
        "        for j in range(0,6):\n",
        "            np_test_preds[i][j] = pre[0][j]"
      ]
    },
    {
      "cell_type": "code",
      "execution_count": null,
      "metadata": {
        "id": "X9PWvI5QXaGu"
      },
      "outputs": [],
      "source": [
        "np_test_preds"
      ]
    },
    {
      "cell_type": "code",
      "execution_count": null,
      "metadata": {
        "id": "SeoqHhrZgPSd"
      },
      "outputs": [],
      "source": [
        "differ = sum(np_test_preds[0]) - 1\n",
        "new_max_value = max(np_test_preds[0]) - differ\n",
        "for i in range(6):\n",
        "  if np_test_preds[0][i] == max(np_test_preds[0]):\n",
        "    np_test_preds[0][i] = new_max_value"
      ]
    },
    {
      "cell_type": "code",
      "execution_count": null,
      "metadata": {
        "id": "aaLyXlSxg4T5"
      },
      "outputs": [],
      "source": [
        "sum(np_test_preds[0])"
      ]
    },
    {
      "cell_type": "markdown",
      "metadata": {
        "id": "PEFDX__a3cZq"
      },
      "source": [
        "Model 저장"
      ]
    },
    {
      "cell_type": "code",
      "execution_count": null,
      "metadata": {
        "id": "GV39-Akc3ciu"
      },
      "outputs": [],
      "source": [
        "# 모델 저장 경로\n",
        "model_path = \"/content/drive/MyDrive/model_weight.pth\"\n",
        "\n",
        "# 모델의 가중치(state_dict) 저장\n",
        "torch.save(model.state_dict(), model_path)\n",
        "print(f\"Model weights saved to {model_path}\")"
      ]
    }
  ],
  "metadata": {
    "accelerator": "GPU",
    "colab": {
      "gpuType": "L4",
      "machine_shape": "hm",
      "provenance": []
    },
    "kernelspec": {
      "display_name": "Python 3",
      "name": "python3"
    },
    "language_info": {
      "name": "python"
    }
  },
  "nbformat": 4,
  "nbformat_minor": 0
}